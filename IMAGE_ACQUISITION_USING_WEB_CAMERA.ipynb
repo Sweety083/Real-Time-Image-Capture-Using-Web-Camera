{
  "cells": [
    {
      "cell_type": "code",
      "execution_count": null,
      "metadata": {
        "id": "hYUzMUQkTAAr"
      },
      "outputs": [],
      "source": [
        "## i) Write the frame as JPG file\n",
        "import cv2\n",
        "#Tye ur code here\n",
        "while (True):\n",
        "    ret,frame = videoCaptureObject.read()\n",
        "    cv2.imwrite(\"trial.jpeg\",frame)\n",
        "    result = False\n",
        "    \n",
        "vedioCaptureObject.release()\n",
        "cv2.destroyAllWindows()"
      ]
    },
    {
      "cell_type": "code",
      "execution_count": null,
      "metadata": {
        "id": "wj6mW4yyTKFm"
      },
      "outputs": [],
      "source": [
        "\n",
        "## ii) Display the video\n",
        "import cv2\n",
        "videoCaptureObject = cv2.VideoCapture(0)\n",
        "#Type ur code here\n",
        "cap=cv2.VideoCapture(0)\n",
        "while(True):\n",
        "    ret,frame=videoCaptureObject.read()\n",
        "    cv2.imshow(\"Picture.jpeg\",frame)\n",
        "    if cv2.waitkey(1)==ord('q'):\n",
        "        break\n",
        "videoCaptureObject.release()\n",
        "cv2.destroyAllWindows()"
      ]
    },
    {
      "cell_type": "code",
      "execution_count": null,
      "metadata": {
        "id": "Y12_al9uTMGw"
      },
      "outputs": [],
      "source": [
        "## iii) Display the video by resizing the window\n",
        "import cv2\n",
        "import numpy as np\n",
        "cap = cv2.VideoCapture(0)\n",
        "while True:\n",
        "    #Type ur code here    ret,frame = cap.read()\n",
        "        width=int(cap.get(3))\n",
        "        height=int(cap.get(4))\n",
        "        \n",
        "        image=np.zeros(frame.shape, np.unit8)\n",
        "        smaller_frame=cv2.resize(frame, (0,0), fx=0.5, fy=0.5)\n",
        "        image[:height//2, :width//2]=samller_frame\n",
        "        image[height//2:, :width//2]=smaller_frame\n",
        "        image[:height//2, width//2:]=smaller_frame\n",
        "        image[height//2, width//2:]=smaller_frame\n",
        "        cv2.imshow(\"Picture.jpeg\",image)\n",
        "    \n",
        "    #Type ur code here\n",
        "    cv2.imshow('myimage', image)\n",
        "    if cv2.waitKey(1) == ord('q'):\n",
        "        break\n",
        "#Type ur code here"
      ]
    },
    {
      "cell_type": "code",
      "execution_count": null,
      "metadata": {
        "id": "Cb1O23bdTOVM"
      },
      "outputs": [],
      "source": [
        "## iv) Rotate and display the video\n",
        "import cv2\n",
        "import numpy as np\n",
        "\n",
        "cap=cv2.VideoCapture(0)\n",
        "\n",
        "while True:\n",
        "    ret,frame = cap.read()\n",
        "    width=int(cap.get(3))\n",
        "    height=int(cap.get(4))\n",
        "    \n",
        "    image=np.zeros(frame.shape, np.unit8)\n",
        "    smaller_frame=cv2.resize(frame, (0,0), fx=0.5, fy=0.5)\n",
        "    image[:height//2, :width//2]=cv2.rotate(smaller_frame,cv2.ROTATE_180)\n",
        "    image[height//2:, :width//2]=cv2.rotate(smaller_frame,cv2.ROTATE_180)\n",
        "    image[:height//2, width//2:]=smaller_frame\n",
        "    image[height//2, width//2:]=smaller_frame\n",
        "    cv2.imshow(\"Picture.jpeg\",image)\n",
        "\n",
        "cap.release()\n",
        "cv.destroyAllWindows()"
      ]
    }
  ],
  "metadata": {
    "colab": {
      "provenance": []
    },
    "kernelspec": {
      "display_name": "Python 3",
      "name": "python3"
    },
    "language_info": {
      "name": "python"
    }
  },
  "nbformat": 4,
  "nbformat_minor": 0
}
